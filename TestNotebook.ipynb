{
 "cells": [
  {
   "cell_type": "code",
   "execution_count": 1,
   "metadata": {},
   "outputs": [
    {
     "data": {
      "text/plain": [
       "Version('0.8.1')"
      ]
     },
     "execution_count": 1,
     "metadata": {},
     "output_type": "execute_result"
    }
   ],
   "source": [
    "#Ejemplo en Notebook sobre como se ejecuta cada bloque en compileNFT.py de la rama main \n",
    "# Nota: ejecutamos sobre una blockchain privada mediante Ganache, conviene tenerse instalado con \n",
    "# npm install ganache --global\n",
    "\n",
    "#Importamos las librerías\n",
    "from web3 import Web3\n",
    "import solcx\n",
    "from solcx import compile_source\n",
    "import json\n",
    "import os\n",
    "\n",
    "# Nota: dependiendo del compilador que necesite tu contrato es recomendable instalar la versión correspondiente \n",
    "solcx.install_solc('0.8.1')\n",
    "\n"
   ]
  },
  {
   "cell_type": "code",
   "execution_count": 3,
   "metadata": {},
   "outputs": [],
   "source": [
    "# Nos conectamos al RPC de la blockchain dada, en este caso la local de Ganache\n",
    "web3 = Web3(Web3.HTTPProvider('http://127.0.0.1:8545'))\n"
   ]
  },
  {
   "cell_type": "code",
   "execution_count": 30,
   "metadata": {},
   "outputs": [],
   "source": [
    "# obtenemos el contrato ya sea mediante Jinja2, hardcodeado en strings o abriendolo con os \n",
    "contract_source_code = '''\n",
    "pragma solidity ^0.8.0;\n",
    "\n",
    "import \"node_modules/@openzeppelin/contracts/token/ERC721/ERC721.sol\";\n",
    "\n",
    "contract GB_NFT is ERC721 {\n",
    "    string private _name;\n",
    "    string private _symbol;\n",
    "\n",
    "    constructor(string memory name, string memory symbol) ERC721(name, symbol) {\n",
    "        _name = name;\n",
    "        _symbol = symbol;\n",
    "    }\n",
    "\n",
    "    function mint(address to, uint256 tokenId) public {\n",
    "        _mint(to, tokenId);\n",
    "    }\n",
    "\n",
    "    function updateNameAndSymbol(string memory name, string memory symbol) public {\n",
    "        require(_isApprovedOrOwner(msg.sender, 1), \"Only the owner can update the name and symbol\");\n",
    "        _name = name;\n",
    "        _symbol = symbol;\n",
    "    }\n",
    "\n",
    "    function name() public view virtual override returns (string memory) {\n",
    "        return _name;\n",
    "    }\n",
    "\n",
    "    function symbol() public view virtual override returns (string memory) {\n",
    "        return _symbol;\n",
    "    }\n",
    "}\n",
    "\n",
    "'''"
   ]
  },
  {
   "cell_type": "code",
   "execution_count": 31,
   "metadata": {},
   "outputs": [],
   "source": [
    "# Compilamos el contrato y obtenmos la interfaz del contrato, de donde obtenemos el ABI\n",
    "compiled_sol = compile_source(contract_source_code)\n",
    "contract_interface = compiled_sol['<stdin>:GB_NFT']"
   ]
  },
  {
   "cell_type": "code",
   "execution_count": 32,
   "metadata": {},
   "outputs": [],
   "source": [
    "# Desplegamos el contrato con los parámetros generados\n",
    "contract = web3.eth.contract(abi=contract_interface['abi'], bytecode=contract_interface['bin'])\n",
    "\n",
    "#Nota: aquí el nombre del NFT y el símbolo está hardcodeado pero se puede implementar desde otro lado dentro del py\n",
    "tx_hash = contract.constructor('MyNFTminting', 'MNFTm').transact({'from': '0x85C5AbD48fe34258af20451f90934e7E0c39D9C8'})\n",
    "tx_receipt = web3.eth.wait_for_transaction_receipt(tx_hash)\n",
    "\n",
    "#Address dueña del contrato\n",
    "contract_address = tx_receipt.contractAddress"
   ]
  },
  {
   "cell_type": "code",
   "execution_count": 33,
   "metadata": {},
   "outputs": [],
   "source": [
    "#Generamos instancia de contrato generado con la libreria web3.py \n",
    "contract_instance = web3.eth.contract(address=contract_address, abi=contract_interface['abi'])"
   ]
  },
  {
   "cell_type": "code",
   "execution_count": 59,
   "metadata": {},
   "outputs": [],
   "source": [
    "# Con este comando podemos enlistar todas las funciones disponibles en el contrato\n",
    "contract_functions = contract_instance.all_functions()\n",
    "self_address = '0x85C5AbD48fe34258af20451f90934e7E0c39D9C8'\n",
    "\n",
    "# Ejemplo: Mintear un NFT del contrato con un ID dado a\n",
    "# Mint hacia self_address con TokenID dado\n",
    "tx_mint = contract_instance.functions.mint(self_address, 1).transact({'from': self_address})\n",
    "\n",
    "# para comprobar si el NFT existe y cual es la wallet donde está llamamos a la funcion ownerOf del contrato \n",
    "owner = contract_instance.functions.ownerOf(1).call()"
   ]
  },
  {
   "cell_type": "code",
   "execution_count": 75,
   "metadata": {},
   "outputs": [],
   "source": [
    "# Y efectivamente, owner = self_address\n",
    "print(owner)"
   ]
  },
  {
   "cell_type": "code",
   "execution_count": 77,
   "metadata": {},
   "outputs": [
    {
     "data": {
      "text/plain": [
       "'GBNFT nuevo'"
      ]
     },
     "execution_count": 77,
     "metadata": {},
     "output_type": "execute_result"
    }
   ],
   "source": [
    "\n",
    "# Ejemplo #2: cambiar nombre al contrato de NFT a otro que se decida\n",
    "contract_instance.functions.name().call()\n",
    "\n",
    "# Vemos que por el constructor del contrato los NFTs se llaman \"MNFTm\" y la colección es \"MyNFTminting\"\n"
   ]
  },
  {
   "cell_type": "code",
   "execution_count": null,
   "metadata": {},
   "outputs": [],
   "source": [
    "# Llamamos a la funcion updateNameAndSymbol y cambiamos el nombre y símbolo\n",
    "# Nota: el nombre y símbolo están hardcodeados, se pueden implementar en el mismo py  \n",
    "tx_hash = contract_instance.functions.updateNameAndSymbol('GBNFT nuevo', 'GBNFT').transact({'from':self_address})"
   ]
  },
  {
   "cell_type": "code",
   "execution_count": null,
   "metadata": {},
   "outputs": [],
   "source": [
    "# Vemos que no son los mismos\n",
    "contract_instance.functions.name().call()\n",
    "contract_instance.functions.symbol().call()"
   ]
  }
 ],
 "metadata": {
  "kernelspec": {
   "display_name": "Python 3",
   "language": "python",
   "name": "python3"
  },
  "language_info": {
   "codemirror_mode": {
    "name": "ipython",
    "version": 3
   },
   "file_extension": ".py",
   "mimetype": "text/x-python",
   "name": "python",
   "nbconvert_exporter": "python",
   "pygments_lexer": "ipython3",
   "version": "3.10.9"
  },
  "orig_nbformat": 4
 },
 "nbformat": 4,
 "nbformat_minor": 2
}
